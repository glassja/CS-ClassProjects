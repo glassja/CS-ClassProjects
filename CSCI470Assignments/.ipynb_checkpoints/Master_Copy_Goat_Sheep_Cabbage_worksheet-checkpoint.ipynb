{
 "cells": [
  {
   "cell_type": "code",
   "execution_count": 1,
   "metadata": {
    "collapsed": true
   },
   "outputs": [],
   "source": [
    "# Need to define what a state looks like. I'm going to make the state a tuple that has both sides of the river represented\n",
    "start_state = ((\"F\",\"C\",\"G\",\"W\"),())"
   ]
  },
  {
   "cell_type": "code",
   "execution_count": 2,
   "metadata": {
    "collapsed": true
   },
   "outputs": [],
   "source": [
    "# Just a quick helper function for printing\n",
    "def state_to_string(s):\n",
    "    return \"\".join(s[0])+\"||\"+\"\".join(s[1])"
   ]
  },
  {
   "cell_type": "code",
   "execution_count": 3,
   "metadata": {
    "collapsed": false
   },
   "outputs": [
    {
     "data": {
      "text/plain": [
       "'FCGW||'"
      ]
     },
     "execution_count": 3,
     "metadata": {},
     "output_type": "execute_result"
    }
   ],
   "source": [
    "state_to_string(start_state)"
   ]
  },
  {
   "cell_type": "code",
   "execution_count": 4,
   "metadata": {
    "collapsed": true
   },
   "outputs": [],
   "source": [
    "# action(s) = possible actions\n",
    "def remove_actions(letter,possible_actions,s,farmer_inx):\n",
    "    if letter not in s[farmer_inx]:\n",
    "        new_possible_actions = []\n",
    "        for action in possible_actions:\n",
    "            if letter not in action:\n",
    "                new_possible_actions.append(action)\n",
    "    else: # Nothing to do\n",
    "        new_possible_actions = possible_actions\n",
    "    return new_possible_actions\n",
    "\n",
    "def action(s):\n",
    "    # Find out which side the farmer is on\n",
    "    farmer_inx = 0\n",
    "    if 'F' in s[1]:\n",
    "        farmer_inx = 1\n",
    "    possible_actions = [\"F>\",\"FC>\",\"FG>\",\"FW>\",\"F<\",\"FC<\",\"FG<\",\"FW<\"] # Same actions as above just a different order\n",
    "    if farmer_inx == 0:\n",
    "        possible_actions = possible_actions[0:4]\n",
    "    else:\n",
    "        possible_actions = possible_actions[4:8]\n",
    "    \n",
    "    possible_actions = remove_actions('C',possible_actions,s,farmer_inx)\n",
    "    possible_actions = remove_actions('G',possible_actions,s,farmer_inx)\n",
    "    possible_actions = remove_actions('W',possible_actions,s,farmer_inx)\n",
    "    \n",
    "    return possible_actions\n",
    "    "
   ]
  },
  {
   "cell_type": "code",
   "execution_count": 6,
   "metadata": {
    "collapsed": false
   },
   "outputs": [
    {
     "data": {
      "text/plain": [
       "['F<', 'FG<']"
      ]
     },
     "execution_count": 6,
     "metadata": {},
     "output_type": "execute_result"
    }
   ],
   "source": [
    "action((('C', 'W'), ('F', 'G')))"
   ]
  },
  {
   "cell_type": "code",
   "execution_count": 7,
   "metadata": {
    "collapsed": true
   },
   "outputs": [],
   "source": [
    "# succ(s,a) = apply action a while in state s, returns the new state\n",
    "# we are going to assume only valid actions are requested\n",
    "import copy\n",
    "def succ(s,a):\n",
    "    new_s = (list(s[0]),list(s[1]))\n",
    "    #print(new_s)\n",
    "    if '<' in a: \n",
    "        # moving farmer from right to left\n",
    "        new_s[1].remove(\"F\")\n",
    "        new_s[0].append(\"F\")\n",
    "        if len(a) == 3:\n",
    "            new_s[1].remove(str(a[1]))\n",
    "            new_s[0].append(str(a[1]))\n",
    "    else:\n",
    "        new_s[0].remove(\"F\")\n",
    "        new_s[1].append(\"F\")\n",
    "        if len(a) == 3:\n",
    "            new_s[0].remove(str(a[1]))\n",
    "            new_s[1].append(str(a[1]))\n",
    "    #print(new_s)\n",
    "    return (tuple(new_s[0]),tuple(new_s[1]))"
   ]
  },
  {
   "cell_type": "code",
   "execution_count": 8,
   "metadata": {
    "collapsed": false
   },
   "outputs": [
    {
     "ename": "ValueError",
     "evalue": "list.remove(x): x not in list",
     "output_type": "error",
     "traceback": [
      "\u001b[0;31m---------------------------------------------------------------------------\u001b[0m",
      "\u001b[0;31mValueError\u001b[0m                                Traceback (most recent call last)",
      "\u001b[0;32m<ipython-input-8-d6dc9e9dab98>\u001b[0m in \u001b[0;36m<module>\u001b[0;34m()\u001b[0m\n\u001b[0;32m----> 1\u001b[0;31m \u001b[0msucc\u001b[0m\u001b[0;34m(\u001b[0m\u001b[0;34m(\u001b[0m\u001b[0;34m(\u001b[0m\u001b[0;34m'C'\u001b[0m\u001b[0;34m,\u001b[0m \u001b[0;34m'W'\u001b[0m\u001b[0;34m)\u001b[0m\u001b[0;34m,\u001b[0m \u001b[0;34m(\u001b[0m\u001b[0;34m'F'\u001b[0m\u001b[0;34m,\u001b[0m \u001b[0;34m'G'\u001b[0m\u001b[0;34m)\u001b[0m\u001b[0;34m)\u001b[0m\u001b[0;34m,\u001b[0m\u001b[0;34m\"F>\"\u001b[0m\u001b[0;34m)\u001b[0m\u001b[0;34m\u001b[0m\u001b[0m\n\u001b[0m",
      "\u001b[0;32m<ipython-input-7-8c130c4067f4>\u001b[0m in \u001b[0;36msucc\u001b[0;34m(s, a)\u001b[0m\n\u001b[1;32m     13\u001b[0m             \u001b[0mnew_s\u001b[0m\u001b[0;34m[\u001b[0m\u001b[0;36m0\u001b[0m\u001b[0;34m]\u001b[0m\u001b[0;34m.\u001b[0m\u001b[0mappend\u001b[0m\u001b[0;34m(\u001b[0m\u001b[0mstr\u001b[0m\u001b[0;34m(\u001b[0m\u001b[0ma\u001b[0m\u001b[0;34m[\u001b[0m\u001b[0;36m1\u001b[0m\u001b[0;34m]\u001b[0m\u001b[0;34m)\u001b[0m\u001b[0;34m)\u001b[0m\u001b[0;34m\u001b[0m\u001b[0m\n\u001b[1;32m     14\u001b[0m     \u001b[0;32melse\u001b[0m\u001b[0;34m:\u001b[0m\u001b[0;34m\u001b[0m\u001b[0m\n\u001b[0;32m---> 15\u001b[0;31m         \u001b[0mnew_s\u001b[0m\u001b[0;34m[\u001b[0m\u001b[0;36m0\u001b[0m\u001b[0;34m]\u001b[0m\u001b[0;34m.\u001b[0m\u001b[0mremove\u001b[0m\u001b[0;34m(\u001b[0m\u001b[0;34m\"F\"\u001b[0m\u001b[0;34m)\u001b[0m\u001b[0;34m\u001b[0m\u001b[0m\n\u001b[0m\u001b[1;32m     16\u001b[0m         \u001b[0mnew_s\u001b[0m\u001b[0;34m[\u001b[0m\u001b[0;36m1\u001b[0m\u001b[0;34m]\u001b[0m\u001b[0;34m.\u001b[0m\u001b[0mappend\u001b[0m\u001b[0;34m(\u001b[0m\u001b[0;34m\"F\"\u001b[0m\u001b[0;34m)\u001b[0m\u001b[0;34m\u001b[0m\u001b[0m\n\u001b[1;32m     17\u001b[0m         \u001b[0;32mif\u001b[0m \u001b[0mlen\u001b[0m\u001b[0;34m(\u001b[0m\u001b[0ma\u001b[0m\u001b[0;34m)\u001b[0m \u001b[0;34m==\u001b[0m \u001b[0;36m3\u001b[0m\u001b[0;34m:\u001b[0m\u001b[0;34m\u001b[0m\u001b[0m\n",
      "\u001b[0;31mValueError\u001b[0m: list.remove(x): x not in list"
     ]
    }
   ],
   "source": [
    "succ((('C', 'W'), ('F', 'G')),\"F>\")"
   ]
  },
  {
   "cell_type": "code",
   "execution_count": 39,
   "metadata": {
    "collapsed": false
   },
   "outputs": [
    {
     "data": {
      "text/plain": [
       "['F']"
      ]
     },
     "execution_count": 39,
     "metadata": {},
     "output_type": "execute_result"
    }
   ],
   "source": [
    "list(('F',))"
   ]
  },
  {
   "cell_type": "code",
   "execution_count": 8,
   "metadata": {
    "collapsed": true
   },
   "outputs": [],
   "source": [
    "# now code whether we are at the end\n",
    "def isEnd(s):\n",
    "    if len(s[0]) == 0:\n",
    "        return True\n",
    "    else:\n",
    "        return False"
   ]
  },
  {
   "cell_type": "code",
   "execution_count": 9,
   "metadata": {
    "collapsed": false
   },
   "outputs": [
    {
     "data": {
      "text/plain": [
       "False"
      ]
     },
     "execution_count": 9,
     "metadata": {},
     "output_type": "execute_result"
    }
   ],
   "source": [
    "isEnd(((\"W\",\"F\"),(\"C\",\"G\")))"
   ]
  },
  {
   "cell_type": "code",
   "execution_count": 10,
   "metadata": {
    "collapsed": false
   },
   "outputs": [
    {
     "data": {
      "text/plain": [
       "True"
      ]
     },
     "execution_count": 10,
     "metadata": {},
     "output_type": "execute_result"
    }
   ],
   "source": [
    "isEnd(((),(\"W\",\"F\",\"C\",\"G\")))"
   ]
  },
  {
   "cell_type": "code",
   "execution_count": 11,
   "metadata": {
    "collapsed": true
   },
   "outputs": [],
   "source": [
    "# cost(s,a) = cost of action a in state s\n",
    "def cost(current_s,a):\n",
    "    s = succ(current_s,a)\n",
    "    max_cost = 1000\n",
    "    \n",
    "    # Find out which side the farmer is on\n",
    "    non_farmer_inx = 1\n",
    "    if 'F' in s[1]:\n",
    "        non_farmer_inx = 0\n",
    "\n",
    "    # Need to check and see if goat and cabbage are there without farmer\n",
    "    if \"C\" in s[non_farmer_inx] and \"G\" in s[non_farmer_inx]:\n",
    "        return max_cost\n",
    "    \n",
    "    # now check wolf and goat\n",
    "    if \"W\" in s[non_farmer_inx] and \"G\" in s[non_farmer_inx]:\n",
    "        return max_cost\n",
    "    \n",
    "    return 1"
   ]
  },
  {
   "cell_type": "code",
   "execution_count": 12,
   "metadata": {
    "collapsed": false
   },
   "outputs": [
    {
     "data": {
      "text/plain": [
       "1000"
      ]
     },
     "execution_count": 12,
     "metadata": {},
     "output_type": "execute_result"
    }
   ],
   "source": [
    "cost(((\"C\",\"F\",\"G\"),(\"W\")),\"F>\")"
   ]
  },
  {
   "cell_type": "markdown",
   "metadata": {},
   "source": [
    "# Finish the Code Below\n",
    "Your task is to implement a breadth first search solution to the Goat, Sheep, Wolf Problem using the funtions above. Here is the function header and an example correct run."
   ]
  },
  {
   "cell_type": "code",
   "execution_count": 65,
   "metadata": {
    "collapsed": true
   },
   "outputs": [],
   "source": [
    "\n",
    "# Now we are ready to implement a tree search\n",
    "import numpy as np\n",
    "def bfs(start):\n",
    "    "
   ]
  },
  {
   "cell_type": "code",
   "execution_count": 66,
   "metadata": {
    "collapsed": false
   },
   "outputs": [
    {
     "data": {
      "text/plain": [
       "7"
      ]
     },
     "execution_count": 66,
     "metadata": {},
     "output_type": "execute_result"
    }
   ],
   "source": [
    "bfs(start_state)"
   ]
  },
  {
   "cell_type": "code",
   "execution_count": null,
   "metadata": {
    "collapsed": true
   },
   "outputs": [],
   "source": []
  },
  {
   "cell_type": "code",
   "execution_count": null,
   "metadata": {
    "collapsed": true
   },
   "outputs": [],
   "source": []
  }
 ],
 "metadata": {
  "kernelspec": {
   "display_name": "Python 3",
   "language": "python",
   "name": "python3"
  },
  "language_info": {
   "codemirror_mode": {
    "name": "ipython",
    "version": 3
   },
   "file_extension": ".py",
   "mimetype": "text/x-python",
   "name": "python",
   "nbconvert_exporter": "python",
   "pygments_lexer": "ipython3",
   "version": "3.6.0"
  }
 },
 "nbformat": 4,
 "nbformat_minor": 2
}
