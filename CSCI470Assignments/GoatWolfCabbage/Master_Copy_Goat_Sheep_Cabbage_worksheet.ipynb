{
 "cells": [
  {
   "cell_type": "code",
   "execution_count": 1,
   "metadata": {
    "collapsed": true
   },
   "outputs": [],
   "source": [
    "# Need to define what a state looks like. I'm going to make the state a tuple that has both sides of the river represented\n",
    "start_state = ((\"F\",\"C\",\"G\",\"W\"),())"
   ]
  },
  {
   "cell_type": "code",
   "execution_count": 2,
   "metadata": {
    "collapsed": true
   },
   "outputs": [],
   "source": [
    "# Just a quick helper function for printing\n",
    "def state_to_string(s):\n",
    "    return \"\".join(s[0])+\"||\"+\"\".join(s[1])"
   ]
  },
  {
   "cell_type": "code",
   "execution_count": 3,
   "metadata": {
    "collapsed": false
   },
   "outputs": [
    {
     "data": {
      "text/plain": [
       "'FCGW||'"
      ]
     },
     "execution_count": 3,
     "metadata": {},
     "output_type": "execute_result"
    }
   ],
   "source": [
    "state_to_string(start_state)"
   ]
  },
  {
   "cell_type": "code",
   "execution_count": 4,
   "metadata": {
    "collapsed": true
   },
   "outputs": [],
   "source": [
    "# action(s) = possible actions\n",
    "def remove_actions(letter,possible_actions,s,farmer_inx):\n",
    "    if letter not in s[farmer_inx]:\n",
    "        new_possible_actions = []\n",
    "        for action in possible_actions:\n",
    "            if letter not in action:\n",
    "                new_possible_actions.append(action)\n",
    "    else: # Nothing to do\n",
    "        new_possible_actions = possible_actions\n",
    "    return new_possible_actions\n",
    "\n",
    "def action(s):\n",
    "    # Find out which side the farmer is on\n",
    "    farmer_inx = 0\n",
    "    if 'F' in s[1]:\n",
    "        farmer_inx = 1\n",
    "    possible_actions = [\"F>\",\"FC>\",\"FG>\",\"FW>\",\"F<\",\"FC<\",\"FG<\",\"FW<\"] # Same actions as above just a different order\n",
    "    if farmer_inx == 0:\n",
    "        possible_actions = possible_actions[0:4]\n",
    "    else:\n",
    "        possible_actions = possible_actions[4:8]\n",
    "    \n",
    "    possible_actions = remove_actions('C',possible_actions,s,farmer_inx)\n",
    "    possible_actions = remove_actions('G',possible_actions,s,farmer_inx)\n",
    "    possible_actions = remove_actions('W',possible_actions,s,farmer_inx)\n",
    "    \n",
    "    return possible_actions\n",
    "    "
   ]
  },
  {
   "cell_type": "code",
   "execution_count": 6,
   "metadata": {
    "collapsed": false
   },
   "outputs": [
    {
     "data": {
      "text/plain": [
       "['F<', 'FG<']"
      ]
     },
     "execution_count": 6,
     "metadata": {},
     "output_type": "execute_result"
    }
   ],
   "source": [
    "action((('C', 'W'), ('F', 'G')))"
   ]
  },
  {
   "cell_type": "code",
   "execution_count": 7,
   "metadata": {
    "collapsed": true
   },
   "outputs": [],
   "source": [
    "# succ(s,a) = apply action a while in state s, returns the new state\n",
    "# we are going to assume only valid actions are requested\n",
    "import copy\n",
    "def succ(s,a):\n",
    "    new_s = (list(s[0]),list(s[1]))\n",
    "    #print(new_s)\n",
    "    if '<' in a: \n",
    "        # moving farmer from right to left\n",
    "        new_s[1].remove(\"F\")\n",
    "        new_s[0].append(\"F\")\n",
    "        if len(a) == 3:\n",
    "            new_s[1].remove(str(a[1]))\n",
    "            new_s[0].append(str(a[1]))\n",
    "    else:\n",
    "        new_s[0].remove(\"F\")\n",
    "        new_s[1].append(\"F\")\n",
    "        if len(a) == 3:\n",
    "            new_s[0].remove(str(a[1]))\n",
    "            new_s[1].append(str(a[1]))\n",
    "    #print(new_s)\n",
    "    return (tuple(new_s[0]),tuple(new_s[1]))"
   ]
  },
  {
   "cell_type": "code",
   "execution_count": 10,
   "metadata": {
    "collapsed": false
   },
   "outputs": [
    {
     "name": "stdout",
     "output_type": "stream",
     "text": [
      "['F<', 'FG<']\n",
      "(('C', 'W', 'F'), ('G',))\n"
     ]
    }
   ],
   "source": [
    "s = (('C', 'W'), ('F', 'G'))\n",
    "print(action(s))\n",
    "print(succ(s, 'F<'))\n",
    "\n",
    "#succ((('C', 'W'), ('F', 'G')),\"F>\") this action is incorrect, but does not break the test."
   ]
  },
  {
   "cell_type": "code",
   "execution_count": 39,
   "metadata": {
    "collapsed": false
   },
   "outputs": [
    {
     "data": {
      "text/plain": [
       "['F']"
      ]
     },
     "execution_count": 39,
     "metadata": {},
     "output_type": "execute_result"
    }
   ],
   "source": [
    "list(('F',))"
   ]
  },
  {
   "cell_type": "code",
   "execution_count": 8,
   "metadata": {
    "collapsed": true
   },
   "outputs": [],
   "source": [
    "# now code whether we are at the end\n",
    "def isEnd(s):\n",
    "    if len(s[0]) == 0:\n",
    "        return True\n",
    "    else:\n",
    "        return False"
   ]
  },
  {
   "cell_type": "code",
   "execution_count": 9,
   "metadata": {
    "collapsed": false
   },
   "outputs": [
    {
     "data": {
      "text/plain": [
       "False"
      ]
     },
     "execution_count": 9,
     "metadata": {},
     "output_type": "execute_result"
    }
   ],
   "source": [
    "isEnd(((\"W\",\"F\"),(\"C\",\"G\")))"
   ]
  },
  {
   "cell_type": "code",
   "execution_count": 10,
   "metadata": {
    "collapsed": false
   },
   "outputs": [
    {
     "data": {
      "text/plain": [
       "True"
      ]
     },
     "execution_count": 10,
     "metadata": {},
     "output_type": "execute_result"
    }
   ],
   "source": [
    "isEnd(((),(\"W\",\"F\",\"C\",\"G\")))"
   ]
  },
  {
   "cell_type": "code",
   "execution_count": 12,
   "metadata": {
    "collapsed": true
   },
   "outputs": [],
   "source": [
    "# cost(s,a) = cost of action a in state s\n",
    "def cost(current_s,a):\n",
    "    s = succ(current_s,a)\n",
    "    max_cost = 1000\n",
    "    \n",
    "    # Find out which side the farmer is on\n",
    "    non_farmer_inx = 1\n",
    "    if 'F' in s[1]:\n",
    "        non_farmer_inx = 0\n",
    "\n",
    "    # Need to check and see if goat and cabbage are there without farmer\n",
    "    if \"C\" in s[non_farmer_inx] and \"G\" in s[non_farmer_inx]:\n",
    "        return max_cost\n",
    "    \n",
    "    # now check wolf and goat\n",
    "    if \"W\" in s[non_farmer_inx] and \"G\" in s[non_farmer_inx]:\n",
    "        return max_cost\n",
    "    \n",
    "    return 1"
   ]
  },
  {
   "cell_type": "code",
   "execution_count": 13,
   "metadata": {
    "collapsed": false
   },
   "outputs": [
    {
     "name": "stdout",
     "output_type": "stream",
     "text": [
      "1\n"
     ]
    }
   ],
   "source": [
    "cost(((\"C\",\"F\",\"G\"),(\"W\")),\"F>\")\n",
    "print(cost((('C', 'F', 'G'), ('W')), 'FC>'))"
   ]
  },
  {
   "cell_type": "markdown",
   "metadata": {},
   "source": [
    "# Finish the Code Below\n",
    "Your task is to implement a breadth first search solution to the Goat, Sheep, Wolf Problem using the funtions above. Here is the function header and an example correct run."
   ]
  },
  {
   "cell_type": "code",
   "execution_count": 20,
   "metadata": {
    "collapsed": true
   },
   "outputs": [],
   "source": [
    "\n",
    "# Now we are ready to implement a tree search\n",
    "import numpy as np\n",
    "from queue import *\n",
    "\n",
    "def get_next_level(s, lst_a):\n",
    "    next_states = []\n",
    "    for x in lst_a:\n",
    "        if succ(s, x) is not None:\n",
    "            next_states.insert(0, (succ(s, x)))\n",
    "        \n",
    "    return next_states\n",
    "    \n",
    "\n",
    "def bfs_paths(start):\n",
    "    queue = Queue(maxsize=0)\n",
    "    queue.put([(start, [start])])\n",
    "    next_level = set()\n",
    "    while queue:\n",
    "        (vertex, path) = queue.get()\n",
    "        for next in get_next_level(vertex, action(vertex)) - set(path):\n",
    "            if isEnd(next):\n",
    "                yield path + [next]\n",
    "            else:\n",
    "                queue.put(next, path + [next])\n",
    "\n",
    "def bfs(start):\n",
    "    try:\n",
    "        return next(bfs_paths(start))\n",
    "    except StopIteration:\n",
    "        return None\n",
    "    "
   ]
  },
  {
   "cell_type": "code",
   "execution_count": 21,
   "metadata": {
    "collapsed": false
   },
   "outputs": [
    {
     "ename": "ValueError",
     "evalue": "not enough values to unpack (expected 2, got 1)",
     "output_type": "error",
     "traceback": [
      "\u001b[0;31m---------------------------------------------------------------------------\u001b[0m",
      "\u001b[0;31mValueError\u001b[0m                                Traceback (most recent call last)",
      "\u001b[0;32m<ipython-input-21-557e9c50a60f>\u001b[0m in \u001b[0;36m<module>\u001b[0;34m()\u001b[0m\n\u001b[0;32m----> 1\u001b[0;31m \u001b[0mbfs\u001b[0m\u001b[0;34m(\u001b[0m\u001b[0mstart_state\u001b[0m\u001b[0;34m)\u001b[0m\u001b[0;34m\u001b[0m\u001b[0m\n\u001b[0m",
      "\u001b[0;32m<ipython-input-20-573c69c979aa>\u001b[0m in \u001b[0;36mbfs\u001b[0;34m(start)\u001b[0m\n\u001b[1;32m     27\u001b[0m \u001b[0;32mdef\u001b[0m \u001b[0mbfs\u001b[0m\u001b[0;34m(\u001b[0m\u001b[0mstart\u001b[0m\u001b[0;34m)\u001b[0m\u001b[0;34m:\u001b[0m\u001b[0;34m\u001b[0m\u001b[0m\n\u001b[1;32m     28\u001b[0m     \u001b[0;32mtry\u001b[0m\u001b[0;34m:\u001b[0m\u001b[0;34m\u001b[0m\u001b[0m\n\u001b[0;32m---> 29\u001b[0;31m         \u001b[0;32mreturn\u001b[0m \u001b[0mnext\u001b[0m\u001b[0;34m(\u001b[0m\u001b[0mbfs_paths\u001b[0m\u001b[0;34m(\u001b[0m\u001b[0mstart\u001b[0m\u001b[0;34m)\u001b[0m\u001b[0;34m)\u001b[0m\u001b[0;34m\u001b[0m\u001b[0m\n\u001b[0m\u001b[1;32m     30\u001b[0m     \u001b[0;32mexcept\u001b[0m \u001b[0mStopIteration\u001b[0m\u001b[0;34m:\u001b[0m\u001b[0;34m\u001b[0m\u001b[0m\n\u001b[1;32m     31\u001b[0m         \u001b[0;32mreturn\u001b[0m \u001b[0;32mNone\u001b[0m\u001b[0;34m\u001b[0m\u001b[0m\n",
      "\u001b[0;32m<ipython-input-20-573c69c979aa>\u001b[0m in \u001b[0;36mbfs_paths\u001b[0;34m(start)\u001b[0m\n\u001b[1;32m     18\u001b[0m     \u001b[0mnext_level\u001b[0m \u001b[0;34m=\u001b[0m \u001b[0mset\u001b[0m\u001b[0;34m(\u001b[0m\u001b[0;34m)\u001b[0m\u001b[0;34m\u001b[0m\u001b[0m\n\u001b[1;32m     19\u001b[0m     \u001b[0;32mwhile\u001b[0m \u001b[0mqueue\u001b[0m\u001b[0;34m:\u001b[0m\u001b[0;34m\u001b[0m\u001b[0m\n\u001b[0;32m---> 20\u001b[0;31m         \u001b[0;34m(\u001b[0m\u001b[0mvertex\u001b[0m\u001b[0;34m,\u001b[0m \u001b[0mpath\u001b[0m\u001b[0;34m)\u001b[0m \u001b[0;34m=\u001b[0m \u001b[0mqueue\u001b[0m\u001b[0;34m.\u001b[0m\u001b[0mget\u001b[0m\u001b[0;34m(\u001b[0m\u001b[0;34m)\u001b[0m\u001b[0;34m\u001b[0m\u001b[0m\n\u001b[0m\u001b[1;32m     21\u001b[0m         \u001b[0;32mfor\u001b[0m \u001b[0mnext\u001b[0m \u001b[0;32min\u001b[0m \u001b[0mget_next_level\u001b[0m\u001b[0;34m(\u001b[0m\u001b[0mvertex\u001b[0m\u001b[0;34m,\u001b[0m \u001b[0maction\u001b[0m\u001b[0;34m(\u001b[0m\u001b[0mvertex\u001b[0m\u001b[0;34m)\u001b[0m\u001b[0;34m)\u001b[0m \u001b[0;34m-\u001b[0m \u001b[0mset\u001b[0m\u001b[0;34m(\u001b[0m\u001b[0mpath\u001b[0m\u001b[0;34m)\u001b[0m\u001b[0;34m:\u001b[0m\u001b[0;34m\u001b[0m\u001b[0m\n\u001b[1;32m     22\u001b[0m             \u001b[0;32mif\u001b[0m \u001b[0misEnd\u001b[0m\u001b[0;34m(\u001b[0m\u001b[0mnext\u001b[0m\u001b[0;34m)\u001b[0m\u001b[0;34m:\u001b[0m\u001b[0;34m\u001b[0m\u001b[0m\n",
      "\u001b[0;31mValueError\u001b[0m: not enough values to unpack (expected 2, got 1)"
     ]
    }
   ],
   "source": [
    "bfs(start_state)"
   ]
  },
  {
   "cell_type": "code",
   "execution_count": null,
   "metadata": {
    "collapsed": true
   },
   "outputs": [],
   "source": []
  },
  {
   "cell_type": "code",
   "execution_count": null,
   "metadata": {
    "collapsed": true
   },
   "outputs": [],
   "source": []
  }
 ],
 "metadata": {
  "kernelspec": {
   "display_name": "Python 3",
   "language": "python",
   "name": "python3"
  },
  "language_info": {
   "codemirror_mode": {
    "name": "ipython",
    "version": 3
   },
   "file_extension": ".py",
   "mimetype": "text/x-python",
   "name": "python",
   "nbconvert_exporter": "python",
   "pygments_lexer": "ipython3",
   "version": "3.6.0"
  }
 },
 "nbformat": 4,
 "nbformat_minor": 2
}
